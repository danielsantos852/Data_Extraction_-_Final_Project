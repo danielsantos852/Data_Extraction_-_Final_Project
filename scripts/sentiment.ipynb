{
 "cells": [
  {
   "cell_type": "code",
   "execution_count": null,
   "metadata": {},
   "outputs": [],
   "source": [
    "# Import libraries\n",
    "import requests as rq\n",
    "import json\n",
    "import pandas as pd\n",
    "import pyarrow as pa\n",
    "import pyarrow.parquet as pq\n",
    "\n",
    "# Input parameters\n",
    "filename = 'raw'\n",
    "api_key = '178ed1ae297a85cb88392b3d3174d30b'\n",
    "api_url = 'https://api.meaningcloud.com/sentiment-2.1'\n"
   ]
  },
  {
   "cell_type": "code",
   "execution_count": null,
   "metadata": {},
   "outputs": [],
   "source": [
    "# Load Parquet function\n",
    "def load_parquet(file:str) -> pd.core.frame.DataFrame:\n",
    "\n",
    "    ''' Takes a filename as input parameter.\n",
    "        Returns pandas dataframe as output. '''\n",
    "\n",
    "    # Read parquet file as pyarrow table\n",
    "    table = pq.read_table(f'../data/{filename}.parquet')\n",
    "\n",
    "    # Convert pyarrow table to pandas dataframe\n",
    "    df = table.to_pandas()\n",
    "\n",
    "    # Return dataframe\n",
    "    return df"
   ]
  },
  {
   "cell_type": "code",
   "execution_count": null,
   "metadata": {},
   "outputs": [],
   "source": [
    "# Get API response function\n",
    "def get_API_response(txt:str, url:str, key:str):\n",
    "    \n",
    "    ''' Takes text, API url and API key as input parameters. \n",
    "        Returns ??? as output. '''\n",
    "    \n",
    "    # Get response from API\n",
    "    r = re.get(url, params={'key':key,\n",
    "                            'of':'json', # Output format: 'json' or 'xml'\n",
    "                            'lang':'auto', # Language of text to analyze\n",
    "                            'txt':txt, # Text to analyze\n",
    "                            #'url':'', # URL of the document to analyze\n",
    "                            'model':'general', # Sentiment model to use\n",
    "                            'uw':'y', # Deal with unknown words\n",
    "                            })\n",
    "    \n",
    "    # Return response\n",
    "    return r"
   ]
  },
  {
   "cell_type": "code",
   "execution_count": null,
   "metadata": {},
   "outputs": [],
   "source": [
    "# Get Sentiment function\n",
    "def sentiment_analysis(df:pd.core.frame.DataFrame, url:str, key:str) -> pd.core.frame.DataFrame:\n",
    "    \n",
    "    ''' Takes news dataframe, API url and API key as input parameters. \n",
    "        Returns a dataframe with a new \"sentiment\" column as output. '''\n",
    "    \n",
    "    # Create empty sentiment list\n",
    "    sentiment = []\n",
    "    \n",
    "    # For each row (article) in dataframe:\n",
    "    for row in df:\n",
    "        \n",
    "        sentiment.append(object=get_API_response())"
   ]
  },
  {
   "cell_type": "code",
   "execution_count": null,
   "metadata": {},
   "outputs": [],
   "source": [
    "# Main function\n",
    "def main():\n",
    "    \n",
    "    # Load raw data to be analyzed\n",
    "    data = load_parquet(file=filename)\n",
    "    \n",
    "    # Perform sentiment analysis on data\n",
    "    data = sentiment_analysis(df=data, url=api_url, key=api_key)\n",
    "    \n",
    "    display(data)"
   ]
  },
  {
   "cell_type": "code",
   "execution_count": null,
   "metadata": {},
   "outputs": [],
   "source": [
    "main()"
   ]
  }
 ],
 "metadata": {
  "kernelspec": {
   "display_name": ".venv",
   "language": "python",
   "name": "python3"
  },
  "language_info": {
   "codemirror_mode": {
    "name": "ipython",
    "version": 3
   },
   "file_extension": ".py",
   "mimetype": "text/x-python",
   "name": "python",
   "nbconvert_exporter": "python",
   "pygments_lexer": "ipython3",
   "version": "3.10.6"
  },
  "orig_nbformat": 4,
  "vscode": {
   "interpreter": {
    "hash": "75b82fb27a4085d916d0ef243989d420c8f896d00efe36befe581c5131322ca4"
   }
  }
 },
 "nbformat": 4,
 "nbformat_minor": 2
}
