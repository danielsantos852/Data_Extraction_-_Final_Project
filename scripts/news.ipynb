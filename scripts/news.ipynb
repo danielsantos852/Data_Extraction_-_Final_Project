{
 "cells": [
  {
   "cell_type": "code",
   "execution_count": 100,
   "metadata": {},
   "outputs": [],
   "source": [
    "# Import libraries\n",
    "import requests as re\n",
    "import json\n",
    "import pandas as pd\n",
    "\n",
    "# Input parameters\n",
    "api_key = '10940c331d2a782a7a7181a67d0c9b9b'\n",
    "query = 'airsoft'\n",
    "\n",
    "# Make API's URL\n",
    "api_url = f'https://gnews.io/api/v4/search?q={query}&apikey={api_key}'"
   ]
  },
  {
   "cell_type": "code",
   "execution_count": 101,
   "metadata": {},
   "outputs": [],
   "source": [
    "# Get API Response function\n",
    "def get_api_response(url=api_url) -> dict:\n",
    "    \n",
    "    ''' Takes an API's URL as parameter. \n",
    "        Returns a dictionary with API's response. '''\n",
    "    \n",
    "    # Get response from API\n",
    "    r = re.get(api_url, params={#'lang':'pt',\n",
    "                                'country':'br',\n",
    "                                #'max':10,\n",
    "                                #'in':'title,description,content',\n",
    "                                #'nullable':'content',\n",
    "                                #'from':'2022-01-01T00:00:00Z',      # e.g. 2022-08-21T16:27:09Z\n",
    "                                #'to':'2023-03-08T00:00:00Z',\n",
    "                                'sortby':'publishedAt',})            # 'relevance' or 'publishedAt'\n",
    "    \n",
    "    # Get response content (as bytes class)\n",
    "    r = r.content\n",
    "    \n",
    "    # Decode bytes class to str\n",
    "    r = r.decode(encoding='utf-8')\n",
    "    \n",
    "    # Convert str to dict\n",
    "    r = json.loads(r)\n",
    "    \n",
    "    # Return response's content and HTTP code\n",
    "    return r"
   ]
  },
  {
   "cell_type": "code",
   "execution_count": 102,
   "metadata": {},
   "outputs": [],
   "source": [
    "# Export JSON function\n",
    "def export_json(dictionary={}, file_name='mock') -> None:\n",
    "    \n",
    "    ''' Takes a dictionary and a file name as inputs.\n",
    "        Exports dictionary as json file with provided file name. '''\n",
    "    \n",
    "    # Export dictionary as JSON file\n",
    "    with open(f'../mock.json', 'w', encoding='utf-8') as file:\n",
    "        json.dump(obj=dictionary, fp=file, ensure_ascii=False, indent=4)"
   ]
  },
  {
   "cell_type": "code",
   "execution_count": 103,
   "metadata": {},
   "outputs": [
    {
     "name": "stdout",
     "output_type": "stream",
     "text": [
      "{'totalArticles': 33, 'articles': [{'title': 'Suspeito de assassinato é preso durante operação em Sooretama', 'description': 'Uma adolescente de 13 anos estava junto com o suspeito; Com eles foram encontradas armas, carregadores, munições de diversos calibres e um simulacro airsoft de fuzil', 'content': 'Foto: Divulgação / Polícia Civil Material apreendido com o suspeito.\\nUm suspeito de assassinar um homem de 33 anos no Residencial Rio Doce, em Linhares, por volta das 21h30, no dia 19 de dezembro de 2022, foi preso na madrugada desta sexta-feira (24)... [1343 chars]', 'url': 'https://www.folhavitoria.com.br/policia/noticia/02/2023/suspeito-de-assassinato-e-preso-durante-operacao-em-sooretama', 'image': 'https://assets.folhavitoria.com.br/images/18090340-b484-11ed-98e4-5943774840ec--minified.jpeg', 'publishedAt': '2023-02-24T21:15:33Z', 'source': {'name': 'Jornal Folha Vitória', 'url': 'https://www.folhavitoria.com.br'}}, {'title': 'PM mata homem que estava com arma de airsoft durante abordagem', 'description': 'Um inquérito foi aberto na Polícia Judiciária Militar (PJM) para investigar a conduta dos policiais', 'content': 'Um inquérito foi aberto na Polícia Judiciária Militar (PJM) para investigar a conduta dos policiais\\nUm rapaz de 28 anos, identificado como Jhon Alef Costa da Conceição, foi morto pela Polícia Militar na madrugada deste domingo (22), em Sinop, a 503 k... [1299 chars]', 'url': 'https://jornaldebrasilia.com.br/nahorah/pm-mata-homem-que-estava-com-arma-de-airsoft-durante-abordagem/', 'image': 'https://cdn.jornaldebrasilia.com.br/wp-content/uploads/2023/01/23082601/alef-sinop.webp', 'publishedAt': '2023-01-23T11:27:00Z', 'source': {'name': 'Jornal de Brasília', 'url': 'https://jornaldebrasilia.com.br'}}, {'title': 'Youtuber é preso por simular assalto em Santa Catarina', 'description': 'O youtuber Jonatan Santos foi preso em Santa Catarina após gravar vídeo simulando um assalto utilizando armas de airsoft', 'content': 'O youtuber Jonatan Santos foi preso após gravar um vídeo simulando um assalto em Santa Catarina. O influenciador gravava um vídeo com armas de airsoft próximo a clube de tiro em Balneário Camboriú e foi detido por atentado contra a segurança de servi... [1433 chars]', 'url': 'https://olhardigital.com.br/2023/01/20/internet-e-redes-sociais/youtuber-e-preso-por-simular-assalto-em-santa-catarina/', 'image': 'https://img.olhardigital.com.br/wp-content/uploads/2023/01/Jonatan-Santos.jpg', 'publishedAt': '2023-01-20T17:42:54Z', 'source': {'name': 'Olhar Digital', 'url': 'https://olhardigital.com.br'}}, {'title': 'Youtuber é preso após simular assalto e mobilizar até helicóptero da polícia em SC', 'description': 'Foto: Polícia Militar SC\\xa0 Arma de airsoft parecida com fuzil foi usada para simular assalto em Balneário Camboriú Um homem de 28 anos foi preso em flagrante em Balneário Camboriú (SC), na tarde desta quarta-feira (18), após simular um assalto pelas ruas da cidade', 'content': 'Foto: Polícia Militar SC\\nArma de airsoft parecida com fuzil foi usada para simular assalto em Balneário Camboriú\\nUm homem de 28 anos foi preso em flagrante em Balneário Camboriú (SC), na tarde desta quarta-feira (18), após simular um assalto pelas ru... [4222 chars]', 'url': 'https://cidadeverde.com/noticias/385454/youtuber-e-preso-apos-simular-assalto-e-mobilizar-ate-helicoptero-da-policia-em-sc', 'image': 'https://cidadeverde.com/assets/uploads/noticias/1f29efb14536c9db9254da8659588df3.jpg', 'publishedAt': '2023-01-20T11:15:00Z', 'source': {'name': 'Cidadeverde.com', 'url': 'https://cidadeverde.com'}}, {'title': 'Youtuber é preso após simular assalto em SC', 'description': 'Com armas de airsoft e crianças no carro, ele ameaçou pedestres e fez com que viaturas de três cidades fossem deslocadas para a ocorrência', 'content': 'Curitiba\\nUm homem de 28 anos foi preso em flagrante em Balneário Camboriú (SC), na tarde desta quarta-feira (18), após simular um assalto pelas ruas da cidade.\\nDe acordo com a polícia militar de Santa Catarina, ele gravou imagens do suposto crime de ... [4294 chars]', 'url': 'https://www1.folha.uol.com.br/cotidiano/2023/01/youtuber-e-preso-apos-simular-assalto-e-mobilizar-ate-helicoptero-da-policia-em-sc.shtml', 'image': 'https://f.i.uol.com.br/fotografia/2023/01/19/167416577163c9be0b4dd61_1674165771_3x2_md.jpg', 'publishedAt': '2023-01-19T23:54:00Z', 'source': {'name': 'Folha de S.Paulo', 'url': 'https://www1.folha.uol.com.br'}}, {'title': 'Youtuber é preso por simular assalto em Balneário Camboriú e mobilizar helicóptero e viaturas da PM', 'description': 'Um youtuber de 28 anos foi preso suspeito de\\xa0atentado contra a segurança de serviço de utilidade pública\\xa0enquanto gravava uma cena com armas de\\xa0airsoft\\xa0próximo a um clube de tiro em\\xa0Balneário Camboriú, no Litoral Norte catarinense, n...', 'content': 'Um youtuber de 28 anos foi preso suspeito de atentado contra a segurança de serviço de utilidade pública enquanto gravava uma cena com armas de airsoft próximo a um clube de tiro em Balneário Camboriú, no Litoral Norte catarinense, na noite de quarta... [2724 chars]', 'url': 'https://www.tnh1.com.br/noticia/nid/youtuber-e-preso-por-simular-assalto-em-balneario-camboriu-e-mobilizar-helicoptero-e-viaturas-da-pm/', 'image': 'https://www.tnh1.com.br/fileadmin/_processed_/b/7/csm_YOUTBER-reproducao_3136b6c2ff.jpeg', 'publishedAt': '2023-01-19T18:27:52Z', 'source': {'name': 'TNH1', 'url': 'https://www.tnh1.com.br'}}, {'title': 'Homem que fez criança refém agrediu ex e usou arma de airsoft no crime', 'description': 'Suspeito, de 39 anos, está internado em estado grave após ser baleado por policiais; ele manteve ex-enteado de 7 anos em cárcere por mais de 15 horas', 'content': 'O homem que fez uma criança de 7 anos refém durante mais de 15 horas em uma casa de Belo Horizonte chegou a agredir a mãe da vítima, que terminou um namoro com o suspeito cerca de dois meses antes do crime. Ele ainda teria usado uma arma de airsoft e... [2735 chars]', 'url': 'https://noticias.uol.com.br/cotidiano/ultimas-noticias/2022/09/23/mae-de-menino-feito-refem-em-bh-afirmou-ter-sido-agredida-pelo-ex.htm', 'image': 'https://conteudo.imguol.com.br/c/noticias/3b/2022/09/22/menino-sequestrado-foi-resgatado-sem-ferimentos-segundo-policia-militar-de-minas-1663854862969_v2_615x300.png', 'publishedAt': '2022-09-23T17:52:00Z', 'source': {'name': 'UOL', 'url': 'https://noticias.uol.com.br'}}, {'title': 'Sequestrador usou arma de airsoft para fazer criança e jovem de reféns em BH', 'description': 'Sequestro no bairro Parque São Pedro durou mais de 15 horas e terminou com Leandro Mendes baleado', 'content': 'Responsável pelo sequestro que durou mais de 15 horas no bairro Parque São Pedro, região de Venda Nova, em Belo Horizonte, Leandro Mendes Pereira usou uma arma de airsoft para intimidar as vítimas e fazer uma criança de 7 anos e um jovem de 23 de ref... [1552 chars]', 'url': 'https://www.otempo.com.br/cidades/sequestrador-usou-arma-de-airsoft-para-fazer-crianca-e-jovem-de-refens-em-bh-1.2738691', 'image': 'https://www.otempo.com.br/image/contentid/policy:1.2737973:1663858529/00406af4-2313-42e0-90d2-a0cb67394dea-jpg.jpg?f=3x2&q=0.6&w=1200&$p$f$q$w=6b7ddcb', 'publishedAt': '2022-09-23T16:42:28Z', 'source': {'name': 'O Tempo', 'url': 'https://www.otempo.com.br'}}, {'title': 'Suspeito é preso com arma de airsoft após ameaçar matar homem', 'description': 'Os envolvidos foram encaminhados para a 21º Delegacia de Polícia e o veículo levado para o depósito da polícia', 'content': 'Os envolvidos foram encaminhados para a 21º Delegacia de Polícia e o veículo levado para o depósito da polícia\\nUm homem foi preso com um simulacro de arma de fogo após ameaçar matar outro em Águas Claras, na noite de ontem (08).\\nSegundo a Polícia Mil... [358 chars]', 'url': 'https://jornaldebrasilia.com.br/brasilia/suspeito-e-preso-com-arma-de-airsoft-apos-ameacar-matar-homem/', 'image': 'https://cdn.jornaldebrasilia.com.br/wp-content/uploads/2022/09/09154556/WhatsApp-Image-2022-09-09-at-15.17.39.jpeg', 'publishedAt': '2022-09-09T06:46:00Z', 'source': {'name': 'Jornal de Brasília', 'url': 'https://jornaldebrasilia.com.br'}}, {'title': 'Armas de airsoft, espadas e submetralhadora são apreendidas em Guarapari', 'description': 'Ocorrência foi registrada no bairro Recanto da Sereia, em Guarapari. Um homem, de 44 anos, foi detido', 'content': 'Foto: Divulgação / Polícia Militar\\nArmas de airsoft foram apreendidas na tarde dessa terça-feira (30) no bairro Recanto da Sereia, em Guarapari. Um homem, de 44 anos, foi detido.\\nDe acordo com a Polícia Militar, foi durante um patrulhamento na região... [1419 chars]', 'url': 'https://www.folhavitoria.com.br/policia/noticia/08/2022/armas-de-airsoft-espadas-e-submetralhadora-sao-apreendidas-em-guarapari', 'image': 'https://assets.folhavitoria.com.br/images/e308c610-2957-11ed-9218-8795d0959960--minified.jpeg', 'publishedAt': '2022-08-31T18:09:59Z', 'source': {'name': 'Jornal Folha Vitória', 'url': 'https://www.folhavitoria.com.br'}}]}\n"
     ]
    }
   ],
   "source": [
    "# Get response from API\n",
    "response = get_api_response(url=api_url)\n",
    "\n",
    "print(response)\n",
    "\n",
    "# Export response as json file\n",
    "export_json(dictionary=response)\n",
    "\n",
    "# Get response from mock json file\n",
    "#response = json.load(open('../mock2.json'))\n",
    "\n",
    "# Create empty (main) pandas dataframe\n",
    "# df = pd.DataFrame()\n",
    "\n",
    "# # For each result in search:\n",
    "# for result in response['articles']:\n",
    "\n",
    "#     # Remove nested dictionary from result dictionary\n",
    "#     source = result.pop('source')\n",
    "    \n",
    "#     # Add nested dictionary's keys as keys to result dictionary\n",
    "#     result['source_name'] = source['name']\n",
    "#     result['source_url'] = source['url']\n",
    "    \n",
    "#     # Create temporary dafaframe with current result's data\n",
    "#     temp = pd.DataFrame(data=result, index=[0])\n",
    "            \n",
    "#     # Concatenate temporary and main dataframes\n",
    "#     df = pd.concat(objs=[df, temp],\n",
    "#               axis=0,\n",
    "#               ignore_index=True)"
   ]
  },
  {
   "cell_type": "code",
   "execution_count": 104,
   "metadata": {},
   "outputs": [
    {
     "data": {
      "text/html": [
       "<div>\n",
       "<style scoped>\n",
       "    .dataframe tbody tr th:only-of-type {\n",
       "        vertical-align: middle;\n",
       "    }\n",
       "\n",
       "    .dataframe tbody tr th {\n",
       "        vertical-align: top;\n",
       "    }\n",
       "\n",
       "    .dataframe thead th {\n",
       "        text-align: right;\n",
       "    }\n",
       "</style>\n",
       "<table border=\"1\" class=\"dataframe\">\n",
       "  <thead>\n",
       "    <tr style=\"text-align: right;\">\n",
       "      <th></th>\n",
       "    </tr>\n",
       "  </thead>\n",
       "  <tbody>\n",
       "  </tbody>\n",
       "</table>\n",
       "</div>"
      ],
      "text/plain": [
       "Empty DataFrame\n",
       "Columns: []\n",
       "Index: []"
      ]
     },
     "metadata": {},
     "output_type": "display_data"
    }
   ],
   "source": [
    "display(df)"
   ]
  }
 ],
 "metadata": {
  "kernelspec": {
   "display_name": "Python 3",
   "language": "python",
   "name": "python3"
  },
  "language_info": {
   "codemirror_mode": {
    "name": "ipython",
    "version": 3
   },
   "file_extension": ".py",
   "mimetype": "text/x-python",
   "name": "python",
   "nbconvert_exporter": "python",
   "pygments_lexer": "ipython3",
   "version": "3.10.10"
  },
  "orig_nbformat": 4,
  "vscode": {
   "interpreter": {
    "hash": "86a21cc79d0c0164958a495aabbce8d88958ef41a1604d68dab7f9621672eef0"
   }
  }
 },
 "nbformat": 4,
 "nbformat_minor": 2
}
