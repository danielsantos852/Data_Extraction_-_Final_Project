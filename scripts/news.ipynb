{
 "cells": [
  {
   "cell_type": "code",
   "execution_count": 87,
   "metadata": {},
   "outputs": [],
   "source": [
    "# Import libraries\n",
    "import requests as re\n",
    "import json\n",
    "import pandas as pd\n",
    "\n",
    "# Input parameters\n",
    "api_key = '10940c331d2a782a7a7181a67d0c9b9b'\n",
    "query = 'airsoft'\n",
    "\n",
    "# Make API's URL\n",
    "api_url = f'https://gnews.io/api/v4/search?q={query}&apikey={api_key}'"
   ]
  },
  {
   "cell_type": "code",
   "execution_count": 88,
   "metadata": {},
   "outputs": [],
   "source": [
    "# Get Response function\n",
    "def get_api_response(url=api_url):\n",
    "    \n",
    "    # Get response from API\n",
    "    response = re.get(api_url, params={'lang':'pt',\n",
    "                                       'country':'br',\n",
    "                                       'max':10,\n",
    "                                       'in':'title,description,content',\n",
    "                                       'nullable':'content',\n",
    "                                       #'from':'2022-01-01T00:00:00Z',      # e.g. 2022-08-21T16:27:09Z\n",
    "                                       #'to':'2023-03-08T00:00:00Z',\n",
    "                                       'sortby':'publishedAt',})            # 'relevance' or 'publishedAt'\n",
    "    \n",
    "    # Return response's content and HTTP code\n",
    "    return response.content, response"
   ]
  },
  {
   "cell_type": "code",
   "execution_count": 89,
   "metadata": {},
   "outputs": [],
   "source": [
    "# Get search results from API\n",
    "# results = get_api_response(url=api_url).json()\n",
    "\n",
    "# Get response from mock json file\n",
    "results = json.load(open('../mock2.json'))\n",
    "\n",
    "# Create empty (main) pandas dataframe\n",
    "df = pd.DataFrame()\n",
    "\n",
    "# For each result in search:\n",
    "for result in results['articles']:\n",
    "\n",
    "    # Remove nested dictionary from result dictionary\n",
    "    source = result.pop('source')\n",
    "    \n",
    "    # Add nested dictionary's keys as keys to result dictionary\n",
    "    result['source_name'] = source['name']\n",
    "    result['source_url'] = source['url']\n",
    "    \n",
    "    # Create temporary dafaframe with current result's data\n",
    "    temp = pd.DataFrame(data=result, index=[0])\n",
    "            \n",
    "    # Concatenate temporary and main dataframes\n",
    "    df = pd.concat(objs=[df, temp],\n",
    "              axis=0,\n",
    "              ignore_index=True)"
   ]
  },
  {
   "cell_type": "code",
   "execution_count": null,
   "metadata": {},
   "outputs": [],
   "source": []
  }
 ],
 "metadata": {
  "kernelspec": {
   "display_name": ".venv",
   "language": "python",
   "name": "python3"
  },
  "language_info": {
   "codemirror_mode": {
    "name": "ipython",
    "version": 3
   },
   "file_extension": ".py",
   "mimetype": "text/x-python",
   "name": "python",
   "nbconvert_exporter": "python",
   "pygments_lexer": "ipython3",
   "version": "3.10.6"
  },
  "orig_nbformat": 4,
  "vscode": {
   "interpreter": {
    "hash": "8c5e7240d785af0840f36a8c65ec26a4071c0ec8c9dadc244065d068110a73ae"
   }
  }
 },
 "nbformat": 4,
 "nbformat_minor": 2
}
