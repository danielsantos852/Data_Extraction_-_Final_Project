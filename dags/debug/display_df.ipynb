{
 "cells": [
  {
   "cell_type": "code",
   "execution_count": null,
   "metadata": {},
   "outputs": [],
   "source": [
    "# Import libraries\n",
    "import pandas as pd\n",
    "import pyarrow.parquet as pq\n",
    "\n",
    "# File parameters\n",
    "# ** Uncomment the file you wish to load **\n",
    "\n",
    "#filename = '1.raw'\n",
    "filename = '2.sentiment'\n",
    "\n",
    "\n",
    "# Main function\n",
    "def main():\n",
    "    \n",
    "    # Load raw data to be analyzed\n",
    "    data = load_parquet(filename=filename)\n",
    "    \n",
    "    # [DEBUG] Display dataframe\n",
    "    display(data)\n",
    "\n",
    "\n",
    "# Load Parquet function\n",
    "def load_parquet(filename:str) -> pd.core.frame.DataFrame:\n",
    "\n",
    "    ''' Takes a filename as input parameter.\n",
    "        Returns pandas dataframe as output. '''\n",
    "\n",
    "    # Read parquet file as pyarrow table\n",
    "    table = pq.read_table(f'../data/{filename}.parquet')\n",
    "\n",
    "    # Convert pyarrow table to pandas dataframe\n",
    "    df = table.to_pandas()\n",
    "\n",
    "    # Return dataframe\n",
    "    return df\n",
    "\n",
    "# If this is the script being run:\n",
    "if __name__=='__main__':\n",
    "    \n",
    "    # Call main function\n",
    "    main()"
   ]
  }
 ],
 "metadata": {
  "kernelspec": {
   "display_name": "Python 3",
   "language": "python",
   "name": "python3"
  },
  "language_info": {
   "codemirror_mode": {
    "name": "ipython",
    "version": 3
   },
   "file_extension": ".py",
   "mimetype": "text/x-python",
   "name": "python",
   "nbconvert_exporter": "python",
   "pygments_lexer": "ipython3",
   "version": "3.10.6"
  },
  "orig_nbformat": 4
 },
 "nbformat": 4,
 "nbformat_minor": 2
}
